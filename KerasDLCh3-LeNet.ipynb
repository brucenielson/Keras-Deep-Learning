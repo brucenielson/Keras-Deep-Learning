{
 "cells": [
  {
   "cell_type": "markdown",
   "metadata": {
    "collapsed": true
   },
   "source": [
    "# DCCNN - LeNet"
   ]
  },
  {
   "cell_type": "markdown",
   "metadata": {},
   "source": [
    "https://www.packtpub.com/mapt/book/all_books/9781787128422/3/ch03lvl1sec25/an-example-of-dcnn--lenet"
   ]
  },
  {
   "cell_type": "code",
   "execution_count": 1,
   "metadata": {},
   "outputs": [
    {
     "name": "stderr",
     "output_type": "stream",
     "text": [
      "Using TensorFlow backend.\n"
     ]
    }
   ],
   "source": [
    "from keras import backend as K\n",
    "from keras.models import Sequential\n",
    "from keras.layers.convolutional import Conv2D\n",
    "from keras.layers.convolutional import MaxPooling2D\n",
    "from keras.layers.core import Activation\n",
    "from keras.layers.core import Flatten\n",
    "from keras.layers.core import Dense\n",
    "from keras.datasets import mnist\n",
    "from keras.utils import np_utils\n",
    "from keras.optimizers import SGD, RMSprop, Adam\n",
    "import numpy as np\n",
    "import matplotlib.pyplot as plt"
   ]
  },
  {
   "cell_type": "code",
   "execution_count": 2,
   "metadata": {
    "collapsed": true
   },
   "outputs": [],
   "source": [
    "#define the convnet \n",
    "class LeNet:\n",
    "\t@staticmethod\n",
    "\tdef build(input_shape, classes):\n",
    "\t\tmodel = Sequential()\n",
    "\t\t# CONV => RELU => POOL\n",
    "\t\tmodel.add(Conv2D(20, kernel_size=5, padding=\"same\",\n",
    "\t\t\tinput_shape=input_shape))\n",
    "\t\tmodel.add(Activation(\"relu\"))\n",
    "\t\tmodel.add(MaxPooling2D(pool_size=(2, 2), strides=(2, 2)))\n",
    "\t\t# CONV => RELU => POOL\n",
    "\t\tmodel.add(Conv2D(50, kernel_size=5, padding=\"same\"))\n",
    "\t\tmodel.add(Activation(\"relu\"))\n",
    "\t\tmodel.add(MaxPooling2D(pool_size=(2, 2), strides=(2, 2)))\n",
    "\t\t# Flatten => RELU layers\n",
    "\t\tmodel.add(Flatten())\n",
    "\t\tmodel.add(Dense(500))\n",
    "\t\tmodel.add(Activation(\"relu\"))\n",
    " \n",
    "\t\t# a softmax classifier\n",
    "\t\tmodel.add(Dense(classes))\n",
    "\t\tmodel.add(Activation(\"softmax\"))\n",
    "\n",
    "\t\treturn model"
   ]
  },
  {
   "cell_type": "code",
   "execution_count": 3,
   "metadata": {},
   "outputs": [
    {
     "name": "stdout",
     "output_type": "stream",
     "text": [
      "60000 train samples\n",
      "10000 test samples\n",
      "Train on 48000 samples, validate on 12000 samples\n",
      "Epoch 1/20\n",
      "48000/48000 [==============================] - 681s - loss: 0.1818 - acc: 0.9442 - val_loss: 0.0621 - val_acc: 0.9823\n",
      "Epoch 2/20\n",
      "48000/48000 [==============================] - 903s - loss: 0.0493 - acc: 0.9844 - val_loss: 0.0446 - val_acc: 0.9868\n",
      "Epoch 3/20\n",
      "48000/48000 [==============================] - 1105s - loss: 0.0332 - acc: 0.9894 - val_loss: 0.0416 - val_acc: 0.9872\n",
      "Epoch 4/20\n",
      "48000/48000 [==============================] - 1505s - loss: 0.0243 - acc: 0.9921 - val_loss: 0.0452 - val_acc: 0.9874\n",
      "Epoch 5/20\n",
      "48000/48000 [==============================] - 1144s - loss: 0.0199 - acc: 0.9937 - val_loss: 0.0356 - val_acc: 0.9894\n",
      "Epoch 6/20\n",
      "48000/48000 [==============================] - 974s - loss: 0.0144 - acc: 0.9952 - val_loss: 0.0479 - val_acc: 0.9883\n",
      "Epoch 7/20\n",
      "48000/48000 [==============================] - 1239s - loss: 0.0116 - acc: 0.9960 - val_loss: 0.0377 - val_acc: 0.9902\n",
      "Epoch 8/20\n",
      "48000/48000 [==============================] - 1426s - loss: 0.0093 - acc: 0.9968 - val_loss: 0.0463 - val_acc: 0.9892\n",
      "Epoch 9/20\n",
      "48000/48000 [==============================] - 1137s - loss: 0.0096 - acc: 0.9967 - val_loss: 0.0394 - val_acc: 0.9896\n",
      "Epoch 10/20\n",
      "48000/48000 [==============================] - 802s - loss: 0.0067 - acc: 0.9977 - val_loss: 0.0372 - val_acc: 0.9912\n",
      "Epoch 11/20\n",
      "48000/48000 [==============================] - 645s - loss: 0.0055 - acc: 0.9981 - val_loss: 0.0542 - val_acc: 0.9876\n",
      "Epoch 12/20\n",
      "48000/48000 [==============================] - 1057s - loss: 0.0084 - acc: 0.9973 - val_loss: 0.0444 - val_acc: 0.9903\n",
      "Epoch 13/20\n",
      "48000/48000 [==============================] - 706s - loss: 0.0054 - acc: 0.9981 - val_loss: 0.0392 - val_acc: 0.9911\n",
      "Epoch 14/20\n",
      "48000/48000 [==============================] - 595s - loss: 0.0064 - acc: 0.9978 - val_loss: 0.0379 - val_acc: 0.9917\n",
      "Epoch 15/20\n",
      "48000/48000 [==============================] - 737s - loss: 0.0039 - acc: 0.9986 - val_loss: 0.0520 - val_acc: 0.9884\n",
      "Epoch 16/20\n",
      "48000/48000 [==============================] - 486s - loss: 0.0046 - acc: 0.9986 - val_loss: 0.0383 - val_acc: 0.9914\n",
      "Epoch 17/20\n",
      "48000/48000 [==============================] - 555s - loss: 0.0012 - acc: 0.9997 - val_loss: 0.0429 - val_acc: 0.9917\n",
      "Epoch 18/20\n",
      "48000/48000 [==============================] - 556s - loss: 0.0078 - acc: 0.9974 - val_loss: 0.0520 - val_acc: 0.9896\n",
      "Epoch 19/20\n",
      "48000/48000 [==============================] - 473s - loss: 0.0054 - acc: 0.9982 - val_loss: 0.0473 - val_acc: 0.9915\n",
      "Epoch 20/20\n",
      "48000/48000 [==============================] - 473s - loss: 0.0035 - acc: 0.9990 - val_loss: 0.0480 - val_acc: 0.9905\n",
      "10000/10000 [==============================] - 59s    \n",
      "Test score: 0.0414731372497\n",
      "Test accuracy: 0.9897\n",
      "dict_keys(['loss', 'val_acc', 'acc', 'val_loss'])\n"
     ]
    }
   ],
   "source": [
    "# network and training\n",
    "NB_EPOCH = 20\n",
    "BATCH_SIZE = 128\n",
    "VERBOSE = 1\n",
    "OPTIMIZER = Adam()\n",
    "VALIDATION_SPLIT=0.2\n",
    "IMG_ROWS, IMG_COLS = 28, 28 # input image dimensions\n",
    "NB_CLASSES = 10 # number of outputs = number of digits\n",
    "INPUT_SHAPE = (1, IMG_ROWS, IMG_COLS)\n",
    "# data: shuffled and split between train and test sets\n",
    "(X_train, y_train), (X_test, y_test) = mnist.load_data()\n",
    "K.set_image_dim_ordering(\"th\")\n",
    "# consider them as float and normalize\n",
    "X_train = X_train.astype('float32')\n",
    "X_test = X_test.astype('float32')\n",
    "X_train /= 255\n",
    "X_test /= 255\n",
    "# we need a 60K x [1 x 28 x 28] shape as input to the CONVNET\n",
    "X_train = X_train[:, np.newaxis, :, :]\n",
    "X_test = X_test[:, np.newaxis, :, :]\n",
    "print(X_train.shape[0], 'train samples')\n",
    "print(X_test.shape[0], 'test samples')\n",
    "# convert class vectors to binary class matrices\n",
    "y_train = np_utils.to_categorical(y_train, NB_CLASSES)\n",
    "y_test = np_utils.to_categorical(y_test, NB_CLASSES)\n",
    "# initialize the optimizer and model\n",
    "model = LeNet.build(input_shape=INPUT_SHAPE, classes=NB_CLASSES)\n",
    "model.compile(loss=\"categorical_crossentropy\", optimizer=OPTIMIZER,\n",
    "metrics=[\"accuracy\"])\n",
    "history = model.fit(X_train, y_train,\n",
    "batch_size=BATCH_SIZE, epochs=NB_EPOCH,\n",
    "verbose=VERBOSE, validation_split=VALIDATION_SPLIT)\n",
    "score = model.evaluate(X_test, y_test, verbose=VERBOSE)\n",
    "print(\"Test score:\", score[0])\n",
    "print('Test accuracy:', score[1])\n",
    "# list all data in history\n",
    "print(history.history.keys())"
   ]
  },
  {
   "cell_type": "code",
   "execution_count": 4,
   "metadata": {},
   "outputs": [
    {
     "data": {
      "image/png": "[encoded data removed]",
      "text/plain": [
       "<matplotlib.figure.Figure at 0x24f4607a710>"
      ]
     },
     "metadata": {},
     "output_type": "display_data"
    },
    {
     "data": {
      "image/png": "[encoded data removed]",
      "text/plain": [
       "<matplotlib.figure.Figure at 0x24f48adeac8>"
      ]
     },
     "metadata": {},
     "output_type": "display_data"
    }
   ],
   "source": [
    "# summarize history for accuracy\n",
    "plt.plot(history.history['acc'])\n",
    "plt.plot(history.history['val_acc'])\n",
    "plt.title('model accuracy')\n",
    "plt.ylabel('accuracy')\n",
    "plt.xlabel('epoch')\n",
    "plt.legend(['train', 'test'], loc='upper left')\n",
    "plt.show()\n",
    "# summarize history for loss\n",
    "plt.plot(history.history['loss'])\n",
    "plt.plot(history.history['val_loss'])\n",
    "plt.title('model loss')\n",
    "plt.ylabel('loss')\n",
    "plt.xlabel('epoch')\n",
    "plt.legend(['train', 'test'], loc='upper left')\n",
    "plt.show()"
   ]
  },
  {
   "cell_type": "code",
   "execution_count": null,
   "metadata": {
    "collapsed": true
   },
   "outputs": [],
   "source": [
    ""
   ]
  }
 ],
 "metadata": {
  "kernelspec": {
   "display_name": "Python 3",
   "language": "python",
   "name": "python3"
  },
  "language_info": {
   "codemirror_mode": {
    "name": "ipython",
    "version": 3.0
   },
   "file_extension": ".py",
   "mimetype": "text/x-python",
   "name": "python",
   "nbconvert_exporter": "python",
   "pygments_lexer": "ipython3",
   "version": "3.5.3"
  }
 },
 "nbformat": 4,
 "nbformat_minor": 0
}