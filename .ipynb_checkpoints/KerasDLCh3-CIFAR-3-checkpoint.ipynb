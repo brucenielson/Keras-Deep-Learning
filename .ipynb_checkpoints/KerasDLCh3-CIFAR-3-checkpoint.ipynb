{
 "cells": [
  {
   "cell_type": "markdown",
   "metadata": {
    "collapsed": true
   },
   "source": [
    "# Improving the CIFAR-10 performance with data augmentation"
   ]
  },
  {
   "cell_type": "markdown",
   "metadata": {},
   "source": [
    "https://www.packtpub.com/mapt/book/all_books/9781787128422/3/ch03lvl1sec26/recognizing-cifar-10-images-with-deep-learning"
   ]
  },
  {
   "cell_type": "code",
   "execution_count": 1,
   "metadata": {
    "collapsed": true
   },
   "outputs": [],
   "source": [
    "import matplotlib.pyplot as plt"
   ]
  },
  {
   "cell_type": "code",
   "execution_count": 2,
   "metadata": {},
   "outputs": [
    {
     "name": "stderr",
     "output_type": "stream",
     "text": [
      "Using TensorFlow backend.\n"
     ]
    }
   ],
   "source": [
    "from keras.datasets import cifar10\n",
    "from keras.utils import np_utils\n",
    "from keras.models import Sequential\n",
    "from keras.layers.core import Dense, Dropout, Activation, Flatten\n",
    "from keras.layers.convolutional import Conv2D, MaxPooling2D\n",
    "from keras.optimizers import SGD, Adam, RMSprop\n",
    "\n",
    "from keras.preprocessing.image import ImageDataGenerator\n",
    "\n",
    "#from quiver_engine import server"
   ]
  },
  {
   "cell_type": "code",
   "execution_count": 3,
   "metadata": {},
   "outputs": [
    {
     "name": "stdout",
     "output_type": "stream",
     "text": [
      "X_train shape: (50000, 32, 32, 3)\n",
      "50000 train samples\n",
      "10000 test samples\n"
     ]
    }
   ],
   "source": [
    "# CIFAR_10 is a set of 60K images 32x32 pixels on 3 channels\n",
    "IMG_CHANNELS = 3\n",
    "IMG_ROWS = 32\n",
    "IMG_COLS = 32\n",
    "\n",
    "#constant\n",
    "BATCH_SIZE = 128\n",
    "NB_EPOCH = 40\n",
    "NB_CLASSES = 10\n",
    "VERBOSE = 1\n",
    "VALIDATION_SPLIT = 0.2\n",
    "OPTIM = RMSprop()\n",
    "\n",
    "\n",
    "#load dataset\n",
    "(X_train, y_train), (X_test, y_test) = cifar10.load_data()\n",
    "print('X_train shape:', X_train.shape)\n",
    "print(X_train.shape[0], 'train samples')\n",
    "print(X_test.shape[0], 'test samples')"
   ]
  },
  {
   "cell_type": "code",
   "execution_count": 4,
   "metadata": {
    "collapsed": true
   },
   "outputs": [],
   "source": [
    "# convert to categorical\n",
    "Y_train = np_utils.to_categorical(y_train, NB_CLASSES)\n",
    "Y_test = np_utils.to_categorical(y_test, NB_CLASSES) \n",
    "\n",
    "# float and normalization\n",
    "X_train = X_train.astype('float32')\n",
    "X_test = X_test.astype('float32')\n",
    "X_train /= 255\n",
    "X_test /= 255"
   ]
  },
  {
   "cell_type": "code",
   "execution_count": 5,
   "metadata": {},
   "outputs": [
    {
     "name": "stdout",
     "output_type": "stream",
     "text": [
      "_________________________________________________________________\n",
      "Layer (type)                 Output Shape              Param #   \n",
      "=================================================================\n",
      "conv2d_1 (Conv2D)            (None, 32, 32, 32)        896       \n",
      "_________________________________________________________________\n",
      "activation_1 (Activation)    (None, 32, 32, 32)        0         \n",
      "_________________________________________________________________\n",
      "conv2d_2 (Conv2D)            (None, 32, 32, 32)        9248      \n",
      "_________________________________________________________________\n",
      "activation_2 (Activation)    (None, 32, 32, 32)        0         \n",
      "_________________________________________________________________\n",
      "max_pooling2d_1 (MaxPooling2 (None, 16, 16, 32)        0         \n",
      "_________________________________________________________________\n",
      "dropout_1 (Dropout)          (None, 16, 16, 32)        0         \n",
      "_________________________________________________________________\n",
      "conv2d_3 (Conv2D)            (None, 16, 16, 64)        18496     \n",
      "_________________________________________________________________\n",
      "activation_3 (Activation)    (None, 16, 16, 64)        0         \n",
      "_________________________________________________________________\n",
      "conv2d_4 (Conv2D)            (None, 14, 14, 64)        36928     \n",
      "_________________________________________________________________\n",
      "activation_4 (Activation)    (None, 14, 14, 64)        0         \n",
      "_________________________________________________________________\n",
      "max_pooling2d_2 (MaxPooling2 (None, 7, 7, 64)          0         \n",
      "_________________________________________________________________\n",
      "dropout_2 (Dropout)          (None, 7, 7, 64)          0         \n",
      "_________________________________________________________________\n",
      "flatten_1 (Flatten)          (None, 3136)              0         \n",
      "_________________________________________________________________\n",
      "dense_1 (Dense)              (None, 512)               1606144   \n",
      "_________________________________________________________________\n",
      "activation_5 (Activation)    (None, 512)               0         \n",
      "_________________________________________________________________\n",
      "dropout_3 (Dropout)          (None, 512)               0         \n",
      "_________________________________________________________________\n",
      "dense_2 (Dense)              (None, 10)                5130      \n",
      "_________________________________________________________________\n",
      "activation_6 (Activation)    (None, 10)                0         \n",
      "=================================================================\n",
      "Total params: 1,676,842\n",
      "Trainable params: 1,676,842\n",
      "Non-trainable params: 0\n",
      "_________________________________________________________________\n"
     ]
    },
    {
     "name": "stderr",
     "output_type": "stream",
     "text": [
      "D:\\Anaconda3\\envs\\Keras\\lib\\site-packages\\ipykernel_launcher.py:15: UserWarning: Update your `Conv2D` call to the Keras 2 API: `Conv2D(64, (3, 3))`\n",
      "  from ipykernel import kernelapp as app\n"
     ]
    }
   ],
   "source": [
    "# network\n",
    "\n",
    "model = Sequential()\n",
    " \n",
    "model.add(Conv2D(32, kernel_size=3, padding='same',\n",
    "                        input_shape=(IMG_ROWS, IMG_COLS, IMG_CHANNELS)))\n",
    "model.add(Activation('relu'))\n",
    "model.add(Conv2D(32, kernel_size=3, padding='same'))\n",
    "model.add(Activation('relu'))\n",
    "model.add(MaxPooling2D(pool_size=(2, 2)))\n",
    "model.add(Dropout(0.25))\n",
    " \n",
    "model.add(Conv2D(64, kernel_size=3, padding='same'))\n",
    "model.add(Activation('relu'))\n",
    "model.add(Conv2D(64, 3, 3))\n",
    "model.add(Activation('relu'))\n",
    "model.add(MaxPooling2D(pool_size=(2, 2)))\n",
    "model.add(Dropout(0.25))\n",
    " \n",
    "model.add(Flatten())\n",
    "model.add(Dense(512))\n",
    "model.add(Activation('relu'))\n",
    "model.add(Dropout(0.5))\n",
    "model.add(Dense(NB_CLASSES))\n",
    "model.add(Activation('softmax'))\n",
    "\n",
    "model.summary()"
   ]
  },
  {
   "cell_type": "code",
   "execution_count": 6,
   "metadata": {
    "collapsed": true
   },
   "outputs": [],
   "source": [
    "model.compile(loss='categorical_crossentropy', optimizer=OPTIM,\n",
    "\tmetrics=['accuracy'])"
   ]
  },
  {
   "cell_type": "code",
   "execution_count": 7,
   "metadata": {
    "collapsed": true
   },
   "outputs": [],
   "source": [
    "datagen = ImageDataGenerator(\n",
    "        featurewise_center=False,  # set input mean to 0 over the dataset\n",
    "        samplewise_center=False,  # set each sample mean to 0\n",
    "        featurewise_std_normalization=False,  # divide inputs by std of the dataset\n",
    "        samplewise_std_normalization=False,  # divide each input by its std\n",
    "        zca_whitening=False,  # apply ZCA whitening\n",
    "        rotation_range=0,  # randomly rotate images in the range (degrees, 0 to 180)\n",
    "        width_shift_range=0.1,  # randomly shift images horizontally (fraction of total width)\n",
    "        height_shift_range=0.1,  # randomly shift images vertically (fraction of total height)\n",
    "        horizontal_flip=True,  # randomly flip images\n",
    "        vertical_flip=False)  # randomly flip images\n",
    "\n",
    "datagen.fit(X_train)"
   ]
  },
  {
   "cell_type": "code",
   "execution_count": 8,
   "metadata": {},
   "outputs": [
    {
     "name": "stdout",
     "output_type": "stream",
     "text": [
      "Train on 40000 samples, validate on 10000 samples\n",
      "Epoch 1/40\n",
      "40000/40000 [==============================] - 6s - loss: 1.7737 - acc: 0.3634 - val_loss: 1.4273 - val_acc: 0.4876\n",
      "Epoch 2/40\n",
      "40000/40000 [==============================] - 5s - loss: 1.3155 - acc: 0.5323 - val_loss: 1.1826 - val_acc: 0.5802\n",
      "Epoch 3/40\n",
      "40000/40000 [==============================] - 5s - loss: 1.1039 - acc: 0.6116 - val_loss: 0.9819 - val_acc: 0.6507\n",
      "Epoch 4/40\n",
      "40000/40000 [==============================] - 5s - loss: 0.9710 - acc: 0.6586 - val_loss: 0.8954 - val_acc: 0.6865\n",
      "Epoch 5/40\n",
      "40000/40000 [==============================] - 5s - loss: 0.8771 - acc: 0.6931 - val_loss: 0.9590 - val_acc: 0.6612\n",
      "Epoch 6/40\n",
      "40000/40000 [==============================] - 5s - loss: 0.8043 - acc: 0.7192 - val_loss: 0.7554 - val_acc: 0.7397\n",
      "Epoch 7/40\n",
      "40000/40000 [==============================] - 5s - loss: 0.7450 - acc: 0.7410 - val_loss: 0.7875 - val_acc: 0.7321\n",
      "Epoch 8/40\n",
      "40000/40000 [==============================] - 5s - loss: 0.7019 - acc: 0.7567 - val_loss: 0.7444 - val_acc: 0.7452\n",
      "Epoch 9/40\n",
      "40000/40000 [==============================] - 5s - loss: 0.6524 - acc: 0.7730 - val_loss: 0.6823 - val_acc: 0.7694\n",
      "Epoch 10/40\n",
      "40000/40000 [==============================] - 5s - loss: 0.6203 - acc: 0.7847 - val_loss: 0.7588 - val_acc: 0.7546\n",
      "Epoch 11/40\n",
      "40000/40000 [==============================] - 5s - loss: 0.5981 - acc: 0.7942 - val_loss: 0.7730 - val_acc: 0.7496\n",
      "Epoch 12/40\n",
      "40000/40000 [==============================] - 5s - loss: 0.5831 - acc: 0.8020 - val_loss: 0.7223 - val_acc: 0.7628\n",
      "Epoch 13/40\n",
      "40000/40000 [==============================] - 5s - loss: 0.5646 - acc: 0.8067 - val_loss: 0.8058 - val_acc: 0.7555\n",
      "Epoch 14/40\n",
      "40000/40000 [==============================] - 5s - loss: 0.5649 - acc: 0.8114 - val_loss: 0.7116 - val_acc: 0.7714\n",
      "Epoch 15/40\n",
      "40000/40000 [==============================] - 5s - loss: 0.5592 - acc: 0.8106 - val_loss: 0.7711 - val_acc: 0.7888\n",
      "Epoch 16/40\n",
      "40000/40000 [==============================] - 5s - loss: 0.5527 - acc: 0.8157 - val_loss: 0.6820 - val_acc: 0.7874\n",
      "Epoch 17/40\n",
      "40000/40000 [==============================] - 5s - loss: 0.5457 - acc: 0.8190 - val_loss: 0.7980 - val_acc: 0.7905\n",
      "Epoch 18/40\n",
      "40000/40000 [==============================] - 5s - loss: 0.5460 - acc: 0.8188 - val_loss: 0.8054 - val_acc: 0.7830\n",
      "Epoch 19/40\n",
      "40000/40000 [==============================] - 5s - loss: 0.5490 - acc: 0.8190 - val_loss: 0.6639 - val_acc: 0.7933\n",
      "Epoch 20/40\n",
      "40000/40000 [==============================] - 5s - loss: 0.5430 - acc: 0.8216 - val_loss: 0.8347 - val_acc: 0.7840\n",
      "Epoch 21/40\n",
      "40000/40000 [==============================] - 5s - loss: 0.5425 - acc: 0.8221 - val_loss: 0.6664 - val_acc: 0.7799\n",
      "Epoch 22/40\n",
      "40000/40000 [==============================] - 5s - loss: 0.5438 - acc: 0.8232 - val_loss: 0.8209 - val_acc: 0.7811\n",
      "Epoch 23/40\n",
      "40000/40000 [==============================] - 5s - loss: 0.5463 - acc: 0.8212 - val_loss: 0.6709 - val_acc: 0.7834\n",
      "Epoch 24/40\n",
      "40000/40000 [==============================] - 5s - loss: 0.5387 - acc: 0.8249 - val_loss: 0.7125 - val_acc: 0.7685\n",
      "Epoch 25/40\n",
      "40000/40000 [==============================] - 5s - loss: 0.5450 - acc: 0.8233 - val_loss: 0.7051 - val_acc: 0.7845\n",
      "Epoch 26/40\n",
      "40000/40000 [==============================] - 5s - loss: 0.5446 - acc: 0.8243 - val_loss: 0.9307 - val_acc: 0.7826\n",
      "Epoch 27/40\n",
      "40000/40000 [==============================] - 5s - loss: 0.5441 - acc: 0.8247 - val_loss: 0.8741 - val_acc: 0.7375\n",
      "Epoch 28/40\n",
      "40000/40000 [==============================] - 5s - loss: 0.5506 - acc: 0.8237 - val_loss: 0.7339 - val_acc: 0.7784\n",
      "Epoch 29/40\n",
      "40000/40000 [==============================] - 5s - loss: 0.5469 - acc: 0.8238 - val_loss: 0.9944 - val_acc: 0.7942\n",
      "Epoch 30/40\n",
      "40000/40000 [==============================] - 5s - loss: 0.5574 - acc: 0.8225 - val_loss: 1.0063 - val_acc: 0.7907\n",
      "Epoch 31/40\n",
      "40000/40000 [==============================] - 5s - loss: 0.5375 - acc: 0.8278 - val_loss: 0.7436 - val_acc: 0.7657\n",
      "Epoch 32/40\n",
      "40000/40000 [==============================] - 5s - loss: 0.5507 - acc: 0.8251 - val_loss: 0.7496 - val_acc: 0.7891\n",
      "Epoch 33/40\n",
      "40000/40000 [==============================] - 5s - loss: 0.5456 - acc: 0.8242 - val_loss: 0.9525 - val_acc: 0.7514\n",
      "Epoch 34/40\n",
      "40000/40000 [==============================] - 5s - loss: 0.5488 - acc: 0.8218 - val_loss: 0.9036 - val_acc: 0.7649\n",
      "Epoch 35/40\n",
      "40000/40000 [==============================] - 5s - loss: 0.5481 - acc: 0.8255 - val_loss: 0.8171 - val_acc: 0.7960\n",
      "Epoch 36/40\n",
      "40000/40000 [==============================] - 5s - loss: 0.5450 - acc: 0.8243 - val_loss: 0.7685 - val_acc: 0.7770\n",
      "Epoch 37/40\n",
      "40000/40000 [==============================] - 5s - loss: 0.5582 - acc: 0.8221 - val_loss: 1.1055 - val_acc: 0.7676\n",
      "Epoch 38/40\n",
      "40000/40000 [==============================] - 5s - loss: 0.5596 - acc: 0.8212 - val_loss: 0.8086 - val_acc: 0.7846\n",
      "Epoch 39/40\n",
      "40000/40000 [==============================] - 5s - loss: 0.5606 - acc: 0.8228 - val_loss: 0.8454 - val_acc: 0.7720\n",
      "Epoch 40/40\n",
      "40000/40000 [==============================] - 5s - loss: 0.5699 - acc: 0.8196 - val_loss: 0.8356 - val_acc: 0.7404\n",
      "Testing...\n",
      " 9216/10000 [==========================>...] - ETA: 0s\n",
      "Test score: 0.845892713356\n",
      "Test accuracy: 0.7428\n"
     ]
    }
   ],
   "source": [
    "# train\n",
    " \n",
    "history = model.fit(X_train, Y_train, batch_size=BATCH_SIZE,\n",
    "\tepochs=NB_EPOCH, validation_split=VALIDATION_SPLIT, \n",
    "\tverbose=VERBOSE)\n",
    "\n",
    "#model.fit_generator(datagen.flow(X_train, Y_train,\n",
    "#                        batch_size=BATCH_SIZE),\n",
    "#                        samples_per_epoch=X_train.shape[0],\n",
    "#                        nb_epoch=NB_EPOCH, \n",
    "#                        verbose=VERBOSE)\n",
    "\n",
    "#server.launch(model)\n",
    "\n",
    "\n",
    "print('Testing...')\n",
    "score = model.evaluate(X_test, Y_test,\n",
    "                     batch_size=BATCH_SIZE, verbose=VERBOSE)\n",
    "print(\"\\nTest score:\", score[0])\n",
    "print('Test accuracy:', score[1])\n",
    "\n",
    "#save model\n",
    "model_json = model.to_json()\n",
    "open('cifar10_architecture.json', 'w').write(model_json)\n",
    "model.save_weights('cifar10_weights.h5', overwrite=True)"
   ]
  },
  {
   "cell_type": "code",
   "execution_count": 9,
   "metadata": {},
   "outputs": [
    {
     "name": "stdout",
     "output_type": "stream",
     "text": [
      "dict_keys(['val_loss', 'val_acc', 'loss', 'acc'])\n"
     ]
    },
    {
     "data": {
      "image/png": "[encoded data removed]",
      "text/plain": [
       "<matplotlib.figure.Figure at 0x21d8056e438>"
      ]
     },
     "metadata": {},
     "output_type": "display_data"
    },
    {
     "data": {
      "image/png": "[encoded data removed]",
      "text/plain": [
       "<matplotlib.figure.Figure at 0x21d805d7ac8>"
      ]
     },
     "metadata": {},
     "output_type": "display_data"
    }
   ],
   "source": [
    "# list all data in history\n",
    "print(history.history.keys())\n",
    "# summarize history for accuracy\n",
    "plt.plot(history.history['acc'])\n",
    "plt.plot(history.history['val_acc'])\n",
    "plt.title('model accuracy')\n",
    "plt.ylabel('accuracy')\n",
    "plt.xlabel('epoch')\n",
    "plt.legend(['train', 'test'], loc='upper left')\n",
    "plt.show()\n",
    "# summarize history for loss\n",
    "plt.plot(history.history['loss'])\n",
    "plt.plot(history.history['val_loss'])\n",
    "plt.title('model loss')\n",
    "plt.ylabel('loss')\n",
    "plt.xlabel('epoch')\n",
    "plt.legend(['train', 'test'], loc='upper left')\n",
    "plt.show()"
   ]
  },
  {
   "cell_type": "code",
   "execution_count": null,
   "metadata": {
    "collapsed": true
   },
   "outputs": [],
   "source": []
  }
 ],
 "metadata": {
  "kernelspec": {
   "display_name": "Python 3",
   "language": "python",
   "name": "python3"
  },
  "language_info": {
   "codemirror_mode": {
    "name": "ipython",
    "version": 3
   },
   "file_extension": ".py",
   "mimetype": "text/x-python",
   "name": "python",
   "nbconvert_exporter": "python",
   "pygments_lexer": "ipython3",
   "version": "3.5.3"
  }
 },
 "nbformat": 4,
 "nbformat_minor": 1
}
