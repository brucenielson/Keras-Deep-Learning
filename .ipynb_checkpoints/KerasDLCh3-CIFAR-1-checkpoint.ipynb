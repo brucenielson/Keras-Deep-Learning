{
 "cells": [
  {
   "cell_type": "markdown",
   "metadata": {
    "collapsed": true
   },
   "source": [
    "# CIFAR-10"
   ]
  },
  {
   "cell_type": "markdown",
   "metadata": {},
   "source": [
    "https://www.packtpub.com/mapt/book/all_books/9781787128422/3/ch03lvl1sec26/recognizing-cifar-10-images-with-deep-learning"
   ]
  },
  {
   "cell_type": "code",
   "execution_count": 1,
   "metadata": {},
   "outputs": [
    {
     "name": "stderr",
     "output_type": "stream",
     "text": [
      "Using TensorFlow backend.\n"
     ]
    }
   ],
   "source": [
    "from keras.datasets import cifar10\n",
    "from keras.utils import np_utils\n",
    "from keras.models import Sequential\n",
    "from keras.layers.core import Dense, Dropout, Activation, Flatten\n",
    "from keras.layers.convolutional import Conv2D, MaxPooling2D\n",
    "from keras.optimizers import SGD, Adam, RMSprop\n",
    "\n",
    "import matplotlib.pyplot as plt"
   ]
  },
  {
   "cell_type": "code",
   "execution_count": 2,
   "metadata": {
    "collapsed": true
   },
   "outputs": [],
   "source": [
    "#from quiver_engine import server\n",
    "# CIFAR_10 is a set of 60K images 32x32 pixels on 3 channels\n",
    "IMG_CHANNELS = 3\n",
    "IMG_ROWS = 32\n",
    "IMG_COLS = 32\n",
    "\n",
    "#constant\n",
    "BATCH_SIZE = 128\n",
    "NB_EPOCH = 20\n",
    "NB_CLASSES = 10\n",
    "VERBOSE = 1\n",
    "VALIDATION_SPLIT = 0.2\n",
    "OPTIM = RMSprop()"
   ]
  },
  {
   "cell_type": "code",
   "execution_count": 3,
   "metadata": {},
   "outputs": [
    {
     "name": "stdout",
     "output_type": "stream",
     "text": [
      "X_train shape: (50000, 32, 32, 3)\n",
      "50000 train samples\n",
      "10000 test samples\n"
     ]
    }
   ],
   "source": [
    "#load dataset\n",
    "(X_train, y_train), (X_test, y_test) = cifar10.load_data()\n",
    "print('X_train shape:', X_train.shape)\n",
    "print(X_train.shape[0], 'train samples')\n",
    "print(X_test.shape[0], 'test samples')"
   ]
  },
  {
   "cell_type": "code",
   "execution_count": 4,
   "metadata": {
    "collapsed": true
   },
   "outputs": [],
   "source": [
    "# convert to categorical\n",
    "Y_train = np_utils.to_categorical(y_train, NB_CLASSES)\n",
    "Y_test = np_utils.to_categorical(y_test, NB_CLASSES) \n",
    "\n",
    "# float and normalization\n",
    "X_train = X_train.astype('float32')\n",
    "X_test = X_test.astype('float32')\n",
    "X_train /= 255\n",
    "X_test /= 255"
   ]
  },
  {
   "cell_type": "code",
   "execution_count": 5,
   "metadata": {},
   "outputs": [
    {
     "name": "stdout",
     "output_type": "stream",
     "text": [
      "_________________________________________________________________\n",
      "Layer (type)                 Output Shape              Param #   \n",
      "=================================================================\n",
      "conv2d_1 (Conv2D)            (None, 32, 32, 32)        896       \n",
      "_________________________________________________________________\n",
      "activation_1 (Activation)    (None, 32, 32, 32)        0         \n",
      "_________________________________________________________________\n",
      "max_pooling2d_1 (MaxPooling2 (None, 16, 16, 32)        0         \n",
      "_________________________________________________________________\n",
      "dropout_1 (Dropout)          (None, 16, 16, 32)        0         \n",
      "_________________________________________________________________\n",
      "flatten_1 (Flatten)          (None, 8192)              0         \n",
      "_________________________________________________________________\n",
      "dense_1 (Dense)              (None, 512)               4194816   \n",
      "_________________________________________________________________\n",
      "activation_2 (Activation)    (None, 512)               0         \n",
      "_________________________________________________________________\n",
      "dropout_2 (Dropout)          (None, 512)               0         \n",
      "_________________________________________________________________\n",
      "dense_2 (Dense)              (None, 10)                5130      \n",
      "_________________________________________________________________\n",
      "activation_3 (Activation)    (None, 10)                0         \n",
      "=================================================================\n",
      "Total params: 4,200,842\n",
      "Trainable params: 4,200,842\n",
      "Non-trainable params: 0\n",
      "_________________________________________________________________\n"
     ]
    }
   ],
   "source": [
    "# network\n",
    "model = Sequential()\n",
    "model.add(Conv2D(32, (3, 3), padding='same',\n",
    "                 input_shape=(IMG_ROWS, IMG_COLS, IMG_CHANNELS)))\n",
    "model.add(Activation('relu'))\n",
    "model.add(MaxPooling2D(pool_size=(2, 2)))\n",
    "model.add(Dropout(0.25))\n",
    "  \n",
    "model.add(Flatten())\n",
    "model.add(Dense(512))\n",
    "model.add(Activation('relu'))\n",
    "model.add(Dropout(0.5))\n",
    "model.add(Dense(NB_CLASSES))\n",
    "model.add(Activation('softmax'))\n",
    "\n",
    "model.summary()"
   ]
  },
  {
   "cell_type": "code",
   "execution_count": 6,
   "metadata": {},
   "outputs": [
    {
     "name": "stdout",
     "output_type": "stream",
     "text": [
      "Train on 40000 samples, validate on 10000 samples\n",
      "Epoch 1/20\n",
      "40000/40000 [==============================] - 362s - loss: 1.6752 - acc: 0.4024 - val_loss: 1.3775 - val_acc: 0.5129\n",
      "Epoch 2/20\n",
      "40000/40000 [==============================] - 271s - loss: 1.3515 - acc: 0.5241 - val_loss: 1.2821 - val_acc: 0.5418\n",
      "Epoch 3/20\n",
      "40000/40000 [==============================] - 155s - loss: 1.2233 - acc: 0.5692 - val_loss: 1.1918 - val_acc: 0.5754\n",
      "Epoch 4/20\n",
      "40000/40000 [==============================] - 182s - loss: 1.1259 - acc: 0.6018 - val_loss: 1.1310 - val_acc: 0.6048\n",
      "Epoch 5/20\n",
      "40000/40000 [==============================] - 269s - loss: 1.0500 - acc: 0.6306 - val_loss: 1.1210 - val_acc: 0.6153\n",
      "Epoch 6/20\n",
      "40000/40000 [==============================] - 222s - loss: 0.9952 - acc: 0.6509 - val_loss: 1.1925 - val_acc: 0.5712\n",
      "Epoch 7/20\n",
      "40000/40000 [==============================] - 296s - loss: 0.9420 - acc: 0.6727 - val_loss: 1.0785 - val_acc: 0.6257\n",
      "Epoch 8/20\n",
      "40000/40000 [==============================] - 198s - loss: 0.8940 - acc: 0.6883 - val_loss: 1.0545 - val_acc: 0.6440\n",
      "Epoch 9/20\n",
      "40000/40000 [==============================] - 333s - loss: 0.8533 - acc: 0.7015 - val_loss: 0.9882 - val_acc: 0.6685\n",
      "Epoch 10/20\n",
      "40000/40000 [==============================] - 1216s - loss: 0.8050 - acc: 0.7208 - val_loss: 1.0300 - val_acc: 0.6586\n",
      "Epoch 11/20\n",
      "40000/40000 [==============================] - 480s - loss: 0.7769 - acc: 0.7317 - val_loss: 1.0453 - val_acc: 0.6561\n",
      "Epoch 12/20\n",
      "40000/40000 [==============================] - 366s - loss: 0.7377 - acc: 0.7455 - val_loss: 1.0143 - val_acc: 0.6645\n",
      "Epoch 13/20\n",
      "40000/40000 [==============================] - 2286s - loss: 0.7053 - acc: 0.7575 - val_loss: 1.0674 - val_acc: 0.6606\n",
      "Epoch 14/20\n",
      "40000/40000 [==============================] - 143s - loss: 0.6882 - acc: 0.7617 - val_loss: 1.0047 - val_acc: 0.6755\n",
      "Epoch 15/20\n",
      "40000/40000 [==============================] - 145s - loss: 0.6601 - acc: 0.7732 - val_loss: 0.9951 - val_acc: 0.6779\n",
      "Epoch 16/20\n",
      "40000/40000 [==============================] - 168s - loss: 0.6333 - acc: 0.7832 - val_loss: 1.0759 - val_acc: 0.6726\n",
      "Epoch 17/20\n",
      "40000/40000 [==============================] - 254s - loss: 0.6140 - acc: 0.7877 - val_loss: 1.0356 - val_acc: 0.6699\n",
      "Epoch 18/20\n",
      "40000/40000 [==============================] - 191s - loss: 0.6029 - acc: 0.7933 - val_loss: 1.0813 - val_acc: 0.6604\n",
      "Epoch 19/20\n",
      "40000/40000 [==============================] - 188s - loss: 0.5760 - acc: 0.8037 - val_loss: 1.0592 - val_acc: 0.6766\n",
      "Epoch 20/20\n",
      "40000/40000 [==============================] - 169s - loss: 0.5633 - acc: 0.8092 - val_loss: 1.0684 - val_acc: 0.6813\n",
      "Testing...\n",
      " 9984/10000 [============================>.] - ETA: 0s\n",
      "Test score: 1.06731175137\n",
      "Test accuracy: 0.6723\n"
     ]
    }
   ],
   "source": [
    "# train\n",
    "#optim = SGD(lr=0.01, decay=1e-6, momentum=0.9, nesterov=True)\n",
    "model.compile(loss='categorical_crossentropy', optimizer=OPTIM,\n",
    "\tmetrics=['accuracy'])\n",
    " \n",
    "history = model.fit(X_train, Y_train, batch_size=BATCH_SIZE,\n",
    "\tepochs=NB_EPOCH, validation_split=VALIDATION_SPLIT, \n",
    "\tverbose=VERBOSE)\n",
    " \n",
    "print('Testing...')\n",
    "score = model.evaluate(X_test, Y_test,\n",
    "                     batch_size=BATCH_SIZE, verbose=VERBOSE)\n",
    "print(\"\\nTest score:\", score[0])\n",
    "print('Test accuracy:', score[1])\n",
    "\n",
    "#server.launch(model)\n",
    "\n",
    "\n",
    "#save model\n",
    "model_json = model.to_json()\n",
    "open('cifar10_architecture.json', 'w').write(model_json)\n",
    "model.save_weights('cifar10_weights.h5', overwrite=True)"
   ]
  },
  {
   "cell_type": "code",
   "execution_count": 8,
   "metadata": {},
   "outputs": [
    {
     "name": "stdout",
     "output_type": "stream",
     "text": [
      "dict_keys(['acc', 'val_loss', 'val_acc', 'loss'])\n"
     ]
    },
    {
     "data": {
      "image/png": "[encoded data removed]",
      "text/plain": [
       "<matplotlib.figure.Figure at 0x276d0284358>"
      ]
     },
     "metadata": {},
     "output_type": "display_data"
    },
    {
     "data": {
      "image/png": "[encoded data removed]",
      "text/plain": [
       "<matplotlib.figure.Figure at 0x276804816d8>"
      ]
     },
     "metadata": {},
     "output_type": "display_data"
    }
   ],
   "source": [
    "# list all data in history\n",
    "print(history.history.keys())\n",
    "# summarize history for accuracy\n",
    "#plt.plot(mo)\n",
    "plt.plot(history.history['acc'])\n",
    "plt.plot(history.history['val_acc'])\n",
    "plt.title('model accuracy')\n",
    "plt.ylabel('accuracy')\n",
    "plt.xlabel('epoch')\n",
    "plt.legend(['train', 'test'], loc='upper left')\n",
    "plt.show()\n",
    "# summarize history for loss\n",
    "plt.plot(history.history['loss'])\n",
    "plt.plot(history.history['val_loss'])\n",
    "plt.title('model loss')\n",
    "plt.ylabel('loss')\n",
    "plt.xlabel('epoch')\n",
    "plt.legend(['train', 'test'], loc='upper left')\n",
    "plt.show()"
   ]
  },
  {
   "cell_type": "code",
   "execution_count": null,
   "metadata": {
    "collapsed": true
   },
   "outputs": [],
   "source": []
  }
 ],
 "metadata": {
  "kernelspec": {
   "display_name": "Python 3",
   "language": "python",
   "name": "python3"
  },
  "language_info": {
   "codemirror_mode": {
    "name": "ipython",
    "version": 3
   },
   "file_extension": ".py",
   "mimetype": "text/x-python",
   "name": "python",
   "nbconvert_exporter": "python",
   "pygments_lexer": "ipython3",
   "version": "3.5.3"
  }
 },
 "nbformat": 4,
 "nbformat_minor": 1
}
